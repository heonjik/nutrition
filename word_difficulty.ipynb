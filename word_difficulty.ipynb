{
 "cells": [
  {
   "cell_type": "code",
   "execution_count": 2,
   "metadata": {},
   "outputs": [],
   "source": [
    "import pandas as pd\n",
    "import numpy as np\n",
    "import torch\n",
    "from transformers import BertTokenizer"
   ]
  },
  {
   "cell_type": "code",
   "execution_count": 7,
   "metadata": {},
   "outputs": [
    {
     "name": "stdout",
     "output_type": "stream",
     "text": [
      "    Word  Length  Freq_HAL  Log_Freq_HAL  I_Mean_RT  I_Zscore    I_SD   Obs  \\\n",
      "0      a       1  10610626         16.18     798.92     -0.01  333.85  24.0   \n",
      "1    aah       3       222          5.40     816.43      0.21  186.03  21.0   \n",
      "2  Aaron       5     10806          9.29     736.06     -0.11  289.01  32.0   \n",
      "3  aback       5       387          5.96     796.27      0.11  171.61  15.0   \n",
      "\n",
      "   I_Mean_Accuracy  \n",
      "0             0.73  \n",
      "1             0.62  \n",
      "2             0.97  \n",
      "3             0.45  \n"
     ]
    }
   ],
   "source": [
    "df = pd.read_csv('WordDifficulty.csv')\n",
    "print(df.head(4))"
   ]
  },
  {
   "cell_type": "markdown",
   "metadata": {},
   "source": [
    "## What each columns represents\n",
    "According to _Word Difficulty Prediction Using Convolutional Neural Networks_ (who provided the dataset),\n",
    "* **I_Zscore**: the mean lexical decision latency for each word - directly relates to the difficulty of a word.\n",
    "    * 0 for \"simple\" & 1 for \"difficult\" (binary classification).\n",
    "    * If I_Zscore <= 0, the class is 0.\n",
    "    * If I_Zscore > 0, the class is 1.\n",
    "* **Freq_HAL**: Hyperspace Analogue to language frequency norms based on the HAL corpus of 131 million words."
   ]
  },
  {
   "cell_type": "code",
   "execution_count": 16,
   "metadata": {},
   "outputs": [
    {
     "data": {
      "text/html": [
       "<div>\n",
       "<style scoped>\n",
       "    .dataframe tbody tr th:only-of-type {\n",
       "        vertical-align: middle;\n",
       "    }\n",
       "\n",
       "    .dataframe tbody tr th {\n",
       "        vertical-align: top;\n",
       "    }\n",
       "\n",
       "    .dataframe thead th {\n",
       "        text-align: right;\n",
       "    }\n",
       "</style>\n",
       "<table border=\"1\" class=\"dataframe\">\n",
       "  <thead>\n",
       "    <tr style=\"text-align: right;\">\n",
       "      <th></th>\n",
       "      <th>Word</th>\n",
       "      <th>Length</th>\n",
       "      <th>Freq_HAL</th>\n",
       "      <th>Log_Freq_HAL</th>\n",
       "      <th>I_Mean_RT</th>\n",
       "      <th>I_Zscore</th>\n",
       "      <th>I_SD</th>\n",
       "      <th>Obs</th>\n",
       "      <th>I_Mean_Accuracy</th>\n",
       "    </tr>\n",
       "  </thead>\n",
       "  <tbody>\n",
       "    <tr>\n",
       "      <th>9844</th>\n",
       "      <td>diacritical</td>\n",
       "      <td>11</td>\n",
       "      <td>162</td>\n",
       "      <td>5.09</td>\n",
       "      <td>1458.75</td>\n",
       "      <td>2.51</td>\n",
       "      <td>421.41</td>\n",
       "      <td>4.0</td>\n",
       "      <td>0.17</td>\n",
       "    </tr>\n",
       "  </tbody>\n",
       "</table>\n",
       "</div>"
      ],
      "text/plain": [
       "             Word  Length  Freq_HAL  Log_Freq_HAL  I_Mean_RT  I_Zscore  \\\n",
       "9844  diacritical      11       162          5.09    1458.75      2.51   \n",
       "\n",
       "        I_SD  Obs  I_Mean_Accuracy  \n",
       "9844  421.41  4.0             0.17  "
      ]
     },
     "execution_count": 16,
     "metadata": {},
     "output_type": "execute_result"
    }
   ],
   "source": [
    "# Check the word that has the highest I_Zscore.\n",
    "df[df['I_Zscore']==df['I_Zscore'].max()]"
   ]
  },
  {
   "cell_type": "code",
   "execution_count": 17,
   "metadata": {},
   "outputs": [
    {
     "data": {
      "text/html": [
       "<div>\n",
       "<style scoped>\n",
       "    .dataframe tbody tr th:only-of-type {\n",
       "        vertical-align: middle;\n",
       "    }\n",
       "\n",
       "    .dataframe tbody tr th {\n",
       "        vertical-align: top;\n",
       "    }\n",
       "\n",
       "    .dataframe thead th {\n",
       "        text-align: right;\n",
       "    }\n",
       "</style>\n",
       "<table border=\"1\" class=\"dataframe\">\n",
       "  <thead>\n",
       "    <tr style=\"text-align: right;\">\n",
       "      <th></th>\n",
       "      <th>Word</th>\n",
       "      <th>Length</th>\n",
       "      <th>Freq_HAL</th>\n",
       "      <th>Log_Freq_HAL</th>\n",
       "      <th>I_Mean_RT</th>\n",
       "      <th>I_Zscore</th>\n",
       "      <th>I_SD</th>\n",
       "      <th>Obs</th>\n",
       "      <th>I_Mean_Accuracy</th>\n",
       "    </tr>\n",
       "  </thead>\n",
       "  <tbody>\n",
       "    <tr>\n",
       "      <th>13553</th>\n",
       "      <td>filmdom</td>\n",
       "      <td>7</td>\n",
       "      <td>3</td>\n",
       "      <td>1.1</td>\n",
       "      <td>509.67</td>\n",
       "      <td>-1.03</td>\n",
       "      <td>135.5</td>\n",
       "      <td>3.0</td>\n",
       "      <td>0.09</td>\n",
       "    </tr>\n",
       "  </tbody>\n",
       "</table>\n",
       "</div>"
      ],
      "text/plain": [
       "          Word  Length  Freq_HAL  Log_Freq_HAL  I_Mean_RT  I_Zscore   I_SD  \\\n",
       "13553  filmdom       7         3           1.1     509.67     -1.03  135.5   \n",
       "\n",
       "       Obs  I_Mean_Accuracy  \n",
       "13553  3.0             0.09  "
      ]
     },
     "execution_count": 17,
     "metadata": {},
     "output_type": "execute_result"
    }
   ],
   "source": [
    "# Check the word that has the lowest I_Zscore.\n",
    "df[df['I_Zscore']==df['I_Zscore'].min()]"
   ]
  },
  {
   "cell_type": "code",
   "execution_count": null,
   "metadata": {},
   "outputs": [],
   "source": [
    "model = 'bert-base-uncased'\n",
    "\n",
    "tokenizer = BertTokenizer.from_pretrained(model)"
   ]
  }
 ],
 "metadata": {
  "kernelspec": {
   "display_name": "simple-text",
   "language": "python",
   "name": "python3"
  },
  "language_info": {
   "codemirror_mode": {
    "name": "ipython",
    "version": 3
   },
   "file_extension": ".py",
   "mimetype": "text/x-python",
   "name": "python",
   "nbconvert_exporter": "python",
   "pygments_lexer": "ipython3",
   "version": "3.12.2"
  }
 },
 "nbformat": 4,
 "nbformat_minor": 2
}
